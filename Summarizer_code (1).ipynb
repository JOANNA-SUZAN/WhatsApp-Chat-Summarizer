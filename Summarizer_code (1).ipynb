{
  "nbformat": 4,
  "nbformat_minor": 0,
  "metadata": {
    "colab": {
      "provenance": []
    },
    "kernelspec": {
      "name": "python3",
      "display_name": "Python 3"
    },
    "language_info": {
      "name": "python"
    },
    "widgets": {
      "application/vnd.jupyter.widget-state+json": {
        "33f5fa5834c747948aa938d3637fb0e1": {
          "model_module": "@jupyter-widgets/controls",
          "model_name": "FileUploadModel",
          "model_module_version": "1.5.0",
          "state": {
            "_counter": 0,
            "_dom_classes": [],
            "_model_module": "@jupyter-widgets/controls",
            "_model_module_version": "1.5.0",
            "_model_name": "FileUploadModel",
            "_view_count": null,
            "_view_module": "@jupyter-widgets/controls",
            "_view_module_version": "1.5.0",
            "_view_name": "FileUploadView",
            "accept": "",
            "button_style": "",
            "data": [],
            "description": "Upload",
            "description_tooltip": null,
            "disabled": false,
            "error": "",
            "icon": "upload",
            "layout": "IPY_MODEL_d1c90eb2acf24bdb930614d560ea52dd",
            "metadata": [],
            "multiple": false,
            "style": "IPY_MODEL_1683f7876e6148e3a7a26f3f6e3f9664"
          }
        },
        "d1c90eb2acf24bdb930614d560ea52dd": {
          "model_module": "@jupyter-widgets/base",
          "model_name": "LayoutModel",
          "model_module_version": "1.2.0",
          "state": {
            "_model_module": "@jupyter-widgets/base",
            "_model_module_version": "1.2.0",
            "_model_name": "LayoutModel",
            "_view_count": null,
            "_view_module": "@jupyter-widgets/base",
            "_view_module_version": "1.2.0",
            "_view_name": "LayoutView",
            "align_content": null,
            "align_items": null,
            "align_self": null,
            "border": null,
            "bottom": null,
            "display": null,
            "flex": null,
            "flex_flow": null,
            "grid_area": null,
            "grid_auto_columns": null,
            "grid_auto_flow": null,
            "grid_auto_rows": null,
            "grid_column": null,
            "grid_gap": null,
            "grid_row": null,
            "grid_template_areas": null,
            "grid_template_columns": null,
            "grid_template_rows": null,
            "height": null,
            "justify_content": null,
            "justify_items": null,
            "left": null,
            "margin": null,
            "max_height": null,
            "max_width": null,
            "min_height": null,
            "min_width": null,
            "object_fit": null,
            "object_position": null,
            "order": null,
            "overflow": null,
            "overflow_x": null,
            "overflow_y": null,
            "padding": null,
            "right": null,
            "top": null,
            "visibility": null,
            "width": null
          }
        },
        "1683f7876e6148e3a7a26f3f6e3f9664": {
          "model_module": "@jupyter-widgets/controls",
          "model_name": "ButtonStyleModel",
          "model_module_version": "1.5.0",
          "state": {
            "_model_module": "@jupyter-widgets/controls",
            "_model_module_version": "1.5.0",
            "_model_name": "ButtonStyleModel",
            "_view_count": null,
            "_view_module": "@jupyter-widgets/base",
            "_view_module_version": "1.2.0",
            "_view_name": "StyleView",
            "button_color": null,
            "font_weight": ""
          }
        }
      }
    }
  },
  "cells": [
    {
      "cell_type": "code",
      "execution_count": 1,
      "metadata": {
        "id": "isH2_8A7BDoX"
      },
      "outputs": [],
      "source": [
        "import pandas as pd\n",
        "import re"
      ]
    },
    {
      "cell_type": "code",
      "source": [
        "from google.colab import files\n",
        "\n",
        "file_contents = None  # Variable to store file content\n",
        "\n",
        "def handle_file_upload(change):\n",
        "    global file_contents\n",
        "    uploaded = upload_button.value\n",
        "    for filename in uploaded.keys():\n",
        "        file_contents = uploaded[filename]['content'].decode('utf-8')\n",
        "        print(f\"Uploaded '{filename}' with length {len(file_contents)} bytes\")\n",
        "        print(\"File Contents:\\n\", file_contents)\n",
        "\n",
        "import ipywidgets as widgets\n",
        "\n",
        "upload_button = widgets.FileUpload()\n",
        "upload_button.observe(handle_file_upload, names='value')\n",
        "\n",
        "display(upload_button)"
      ],
      "metadata": {
        "colab": {
          "base_uri": "https://localhost:8080/",
          "height": 49,
          "referenced_widgets": [
            "33f5fa5834c747948aa938d3637fb0e1",
            "d1c90eb2acf24bdb930614d560ea52dd",
            "1683f7876e6148e3a7a26f3f6e3f9664"
          ]
        },
        "id": "0XU_Reucqn1T",
        "outputId": "692768e7-f33a-4784-aba9-4b1fba7b8eef"
      },
      "execution_count": 14,
      "outputs": [
        {
          "output_type": "display_data",
          "data": {
            "text/plain": [
              "FileUpload(value={}, description='Upload')"
            ],
            "application/vnd.jupyter.widget-view+json": {
              "version_major": 2,
              "version_minor": 0,
              "model_id": "33f5fa5834c747948aa938d3637fb0e1"
            }
          },
          "metadata": {}
        }
      ]
    },
    {
      "cell_type": "code",
      "source": [
        "pattern = r'\\d{1,2}/\\d{1,2}/\\d{2,4},\\s*\\d{1,2}:\\d{2}\\s*[APMapm]+ - '\n",
        "message = re.split(pattern, file_contents)[1:]\n",
        "#print(message)\n",
        "dates=re.findall(pattern, file_contents)\n",
        "\n",
        "df=pd.DataFrame({'user_message':message,'message_date':dates})\n",
        "df.rename(columns={'message_date':'date'},inplace=True)\n",
        "\n",
        "#print(df.head())\n",
        "user=[]\n",
        "messages=[]\n",
        "for message in df['user_message']:\n",
        "    entry=re.split('([\\w\\W]+?):\\s', message)\n",
        "    if entry[1:]:\n",
        "      if entry[2] != 'This message was deleted\\n' and entry[2]!=\"<Media omitted>\\n\":\n",
        "        user.append(entry[1])\n",
        "        str1=entry[1]\n",
        "        str2=entry[2]\n",
        "        res=str1+\" said \"+str2\n",
        "        messages.append(res)\n",
        "      else:\n",
        "        user.append('group_notification')\n",
        "        messages.append(entry[2])\n",
        "    else:\n",
        "        user.append('group_notification')\n",
        "        messages.append(entry[0])\n",
        "df['user']=user\n",
        "df['message']=messages\n",
        "df.drop(columns=['user_message'],inplace=True)\n",
        "\n",
        "print(df.head())"
      ],
      "metadata": {
        "id": "c_d9jWq5qx-X"
      },
      "execution_count": null,
      "outputs": []
    },
    {
      "cell_type": "code",
      "source": [
        "n = int(input(\"Enter the number of recent chats to be summarized: \"))\n",
        "num = len(messages) - n\n",
        "msg = []\n",
        "\n",
        "for i in range(num, len(messages)):\n",
        "    if user[i] != 'group_notification':\n",
        "        str1 = [char for char in messages[i]]\n",
        "        str1[-1] = '.'\n",
        "        msg.append(str1)\n",
        "\n",
        "flat_msg = [char for sublist in msg for char in sublist]\n",
        "\n",
        "text = \"\".join(flat_msg)\n",
        "\n",
        "print(text)\n",
        "\n"
      ],
      "metadata": {
        "id": "yE304LqeB_Nb"
      },
      "execution_count": null,
      "outputs": []
    },
    {
      "cell_type": "code",
      "source": [
        "import nltk\n",
        "import networkx as nx\n",
        "import numpy as np\n",
        "from nltk.tokenize import sent_tokenize, word_tokenize\n",
        "from nltk.corpus import stopwords\n",
        "\n",
        "nltk.download('punkt')\n",
        "nltk.download('stopwords')\n",
        "\n",
        "def preprocess_text(text):\n",
        "    sentences = sent_tokenize(text)\n",
        "    stop_words = set(stopwords.words('english'))\n",
        "    sentence_tokens = [word_tokenize(sentence.lower()) for sentence in sentences]\n",
        "    sentence_tokens = [[word for word in tokens if word.isalnum() and word not in stop_words] for tokens in sentence_tokens]\n",
        "    return sentence_tokens\n",
        "\n",
        "def calculate_similarity(sentence1, sentence2):\n",
        "    words1 = set(sentence1)\n",
        "    words2 = set(sentence2)\n",
        "    intersection = words1.intersection(words2)\n",
        "    union = words1.union(words2)\n",
        "    return len(intersection) / len(union) if len(union) > 0 else 0\n",
        "\n",
        "def build_similarity_matrix(sentences):\n",
        "    sentence_tokens_array = np.array(sentences)\n",
        "\n",
        "    similarity_matrix = [[calculate_similarity(sentence1, sentence2) for sentence2 in sentence_tokens_array] for sentence1 in sentence_tokens_array]\n",
        "    return similarity_matrix\n",
        "\n",
        "def textrank_summarize(text, num_lines=10):\n",
        "    sentence_tokens = preprocess_text(text)\n",
        "    similarity_matrix = build_similarity_matrix(sentence_tokens)\n",
        "\n",
        "    graph = nx.from_numpy_array(np.array(similarity_matrix))\n",
        "\n",
        "    scores = nx.pagerank(graph)\n",
        "\n",
        "    ranked_sentences = sorted(((scores[i], sentence) for i, sentence in enumerate(sentence_tokens)), reverse=True)\n",
        "\n",
        "    top_sentences = [sentence for score, sentence in ranked_sentences]\n",
        "\n",
        "    summary = ' '.join([' '.join(sentence) for sentence in top_sentences[:num_lines]])\n",
        "    return summary\n",
        "\n",
        "summary = textrank_summarize(text, num_lines=10)\n",
        "print(summary)\n"
      ],
      "metadata": {
        "id": "zzeeJ459Kj03"
      },
      "execution_count": null,
      "outputs": []
    }
  ]
}